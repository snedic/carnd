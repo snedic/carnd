{
 "cells": [
  {
   "cell_type": "code",
   "execution_count": 1,
   "metadata": {},
   "outputs": [],
   "source": [
    "import csv\n",
    "import cv2\n",
    "import numpy as np\n",
    "\n",
    "lines = []\n",
    "with open('./data/driving_log.csv') as csvfile:\n",
    "    reader = csv.reader(csvfile)\n",
    "    for line in reader:\n",
    "        if not reader.line_num == 1:\n",
    "            lines.append(line)\n",
    "        \n",
    "images = []\n",
    "measurements = []\n",
    "for line in lines:\n",
    "    source_path = line[0]\n",
    "    filename = source_path.split('/')[-1]\n",
    "    current_path = './data/IMG/' + filename\n",
    "    image = cv2.imread(current_path)\n",
    "    images.append(image)\n",
    "    measurement = float(line[3])\n",
    "    measurements.append(measurement)\n",
    "    \n",
    "X_train = np.array(images)\n",
    "y_train = np.array(measurements)\n"
   ]
  },
  {
   "cell_type": "markdown",
   "metadata": {},
   "source": [
    "### Pass 1"
   ]
  },
  {
   "cell_type": "code",
   "execution_count": 4,
   "metadata": {},
   "outputs": [
    {
     "name": "stdout",
     "output_type": "stream",
     "text": [
      "Train on 7280 samples, validate on 1821 samples\n",
      "Epoch 1/7\n",
      "7280/7280 [==============================] - 4s - loss: 7024891.7015 - val_loss: 3763.6592\n",
      "Epoch 2/7\n",
      "7280/7280 [==============================] - 4s - loss: 2883.9406 - val_loss: 2842.4557\n",
      "Epoch 3/7\n",
      "7280/7280 [==============================] - 4s - loss: 2589.2017 - val_loss: 2320.0405\n",
      "Epoch 4/7\n",
      "7280/7280 [==============================] - 4s - loss: 2213.9632 - val_loss: 5228.8746\n",
      "Epoch 5/7\n",
      "7280/7280 [==============================] - 4s - loss: 1814.5788 - val_loss: 1780.30591816.\n",
      "Epoch 6/7\n",
      "7280/7280 [==============================] - 4s - loss: 2400.1467 - val_loss: 3491.2658\n",
      "Epoch 7/7\n",
      "7280/7280 [==============================] - 4s - loss: 4256.9613 - val_loss: 1862.7084\n"
     ]
    }
   ],
   "source": [
    "from keras.models import Sequential\n",
    "from keras.layers import Flatten, Dense\n",
    "\n",
    "model = Sequential()\n",
    "model.add(Flatten(input_shape=(160,320,3)))\n",
    "model.add(Dense(1))\n",
    "\n",
    "model.compile(loss='mse', optimizer='adam')\n",
    "model.fit(X_train, y_train, validation_split=0.2, shuffle=True, nb_epoch=7)\n",
    "\n",
    "model.save('model.h5')\n",
    "\n"
   ]
  },
  {
   "cell_type": "markdown",
   "metadata": {},
   "source": [
    "### Pass 2"
   ]
  },
  {
   "cell_type": "code",
   "execution_count": 6,
   "metadata": {},
   "outputs": [
    {
     "name": "stdout",
     "output_type": "stream",
     "text": [
      "Train on 7280 samples, validate on 1821 samples\n",
      "Epoch 1/7\n",
      "7280/7280 [==============================] - 8s - loss: 2.1643 - val_loss: 0.3817ss\n",
      "Epoch 2/7\n",
      "7280/7280 [==============================] - 8s - loss: 1.6196 - val_loss: 2.7890\n",
      "Epoch 3/7\n",
      "7280/7280 [==============================] - 8s - loss: 3.3333 - val_loss: 6.8859\n",
      "Epoch 4/7\n",
      "7280/7280 [==============================] - 8s - loss: 5.3464 - val_loss: 3.6791\n",
      "Epoch 5/7\n",
      "7280/7280 [==============================] - 8s - loss: 4.3492 - val_loss: 4.3863\n",
      "Epoch 6/7\n",
      "7280/7280 [==============================] - 8s - loss: 6.0733 - val_loss: 2.1015\n",
      "Epoch 7/7\n",
      "7280/7280 [==============================] - 8s - loss: 3.3339 - val_loss: 2.3506\n"
     ]
    }
   ],
   "source": [
    "from keras.models import Sequential\n",
    "from keras.layers import Flatten, Dense, Lambda\n",
    "\n",
    "model = Sequential()\n",
    "model.add(Lambda(lambda x: (x / 255.0) -0.5, input_shape=(160,320,3)))\n",
    "model.add(Flatten())\n",
    "model.add(Dense(1))\n",
    "\n",
    "model.compile(loss='mse', optimizer='adam')\n",
    "model.fit(X_train, y_train, validation_split=0.2, shuffle=True, nb_epoch=7)\n",
    "\n",
    "model.save('model.h5')"
   ]
  },
  {
   "cell_type": "markdown",
   "metadata": {},
   "source": [
    "### Pass 3 (LeNet)"
   ]
  },
  {
   "cell_type": "code",
   "execution_count": null,
   "metadata": {},
   "outputs": [
    {
     "name": "stdout",
     "output_type": "stream",
     "text": [
      "Train on 7280 samples, validate on 1821 samples\n",
      "Epoch 1/5\n",
      "7280/7280 [==============================] - 248s - loss: 36.6228 - val_loss: 0.0187\n",
      "Epoch 2/5\n",
      "1440/7280 [====>.........................] - ETA: 232s - loss: 0.0184"
     ]
    }
   ],
   "source": [
    "from keras.models import Sequential\n",
    "from keras.layers import Flatten, Dense, Lambda\n",
    "from keras.layers import Convolution2D\n",
    "from keras.layers import pooling, MaxPooling2D\n",
    "\n",
    "model = Sequential()\n",
    "model.add(Lambda(lambda x: (x / 255.0) -0.5, input_shape=(160,320,3)))\n",
    "model.add(Convolution2D(6,5,5,activation=\"relu\"))\n",
    "model.add(MaxPooling2D())\n",
    "model.add(Flatten())\n",
    "model.add(Dense(120))\n",
    "model.add(Dense(84))\n",
    "model.add(Dense(1))\n",
    "\n",
    "model.compile(loss='mse', optimizer='adam')\n",
    "model.fit(X_train, y_train, validation_split=0.2, shuffle=True, nb_epoch=5)\n",
    "\n",
    "model.save('model.h5')"
   ]
  },
  {
   "cell_type": "code",
   "execution_count": null,
   "metadata": {
    "collapsed": true
   },
   "outputs": [],
   "source": []
  }
 ],
 "metadata": {
  "kernelspec": {
   "display_name": "Python 3",
   "language": "python",
   "name": "python3"
  },
  "language_info": {
   "codemirror_mode": {
    "name": "ipython",
    "version": 3
   },
   "file_extension": ".py",
   "mimetype": "text/x-python",
   "name": "python",
   "nbconvert_exporter": "python",
   "pygments_lexer": "ipython3",
   "version": "3.5.2"
  },
  "widgets": {
   "state": {},
   "version": "1.1.2"
  }
 },
 "nbformat": 4,
 "nbformat_minor": 2
}
